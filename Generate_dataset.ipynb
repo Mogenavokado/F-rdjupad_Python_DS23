{
 "cells": [
  {
   "cell_type": "markdown",
   "metadata": {},
   "source": [
    "## Generate Data"
   ]
  },
  {
   "cell_type": "markdown",
   "metadata": {},
   "source": [
    "This notebook is for generating random data, can be transferred and run in a script if we want continous random data."
   ]
  },
  {
   "cell_type": "code",
   "execution_count": 15,
   "metadata": {},
   "outputs": [],
   "source": [
    "import pandas as pd\n",
    "import numpy as np\n",
    "from faker import Faker\n",
    "\n",
    "\n",
    "# Initiate Faker to generate fake datasets/samples\n",
    "faker = Faker()\n",
    "\n",
    "# Create dataset\n",
    "data = {\n",
    "    'name': [faker.name() for amount in range(5)],\n",
    "    'age': np.random.randint(18, 80, 5),\n",
    "    'city': [faker.city() for amount in range(5)]\n",
    "}\n",
    "\n",
    "# Create dataframe\n",
    "data_df = pd.DataFrame(data)\n",
    "\n",
    "# Save dataframe to csv\n",
    "data_df.to_csv('Kunskapskontroll_2_1.csv', index=False)"
   ]
  }
 ],
 "metadata": {
  "kernelspec": {
   "display_name": ".venv",
   "language": "python",
   "name": "python3"
  },
  "language_info": {
   "codemirror_mode": {
    "name": "ipython",
    "version": 3
   },
   "file_extension": ".py",
   "mimetype": "text/x-python",
   "name": "python",
   "nbconvert_exporter": "python",
   "pygments_lexer": "ipython3",
   "version": "3.13.2"
  }
 },
 "nbformat": 4,
 "nbformat_minor": 2
}
