{
 "cells": [
  {
   "cell_type": "code",
   "execution_count": 34,
   "metadata": {},
   "outputs": [
    {
     "name": "stdout",
     "output_type": "stream",
     "text": [
      "Empty DataFrame\n",
      "Columns: [id, name, age, city]\n",
      "Index: []\n"
     ]
    }
   ],
   "source": [
    "import sqlite3\n",
    "import pandas as pd\n",
    "\n",
    "# Connect to the database\n",
    "# If the database does not exist, it will be created\n",
    "connect = sqlite3.connect('kunskaps_databas.db')\n",
    "\n",
    "# Create a cursor object to execute sql queries\n",
    "cursor = connect.cursor()\n",
    "\n",
    "# Drop the 'people' table (this is for emptying the table)\n",
    "cursor.execute('DROP TABLE IF EXISTS people')\n",
    "\n",
    "# Create a table with columns: Name, Age, City\n",
    "# The ID column is a primary key and auto increments\n",
    "# The primary key is a unique identifier for each row in the table\n",
    "cursor.execute('''\n",
    "    CREATE TABLE IF NOT EXISTS people (\n",
    "    id INTEGER PRIMARY KEY AUTOINCREMENT,\n",
    "    name TEXT  NULL,\n",
    "    age INTEGER NULL,\n",
    "    city TEXT NULL\n",
    ")\n",
    " ''')\n",
    "\n",
    "# displaying the table\n",
    "data_view = pd.read_sql_query('SELECT * FROM people', connect)\n",
    "print(data_view)\n",
    "\n",
    "# Commit changes and close connection\n",
    "connect.commit()\n",
    "connect.close()"
   ]
  },
  {
   "cell_type": "markdown",
   "metadata": {},
   "source": [
    "The code down below is the initial code for the task of running it automatically in a scheduler."
   ]
  },
  {
   "cell_type": "code",
   "execution_count": 9,
   "metadata": {},
   "outputs": [
    {
     "name": "stdout",
     "output_type": "stream",
     "text": [
      "    id                  name  age                 city\n",
      "0    1            Patrick Ho   77       Port Sarahstad\n",
      "1    2         Walter Conway   61  North Donaldborough\n",
      "2    3         Richard Moody   55     Lake Thomasmouth\n",
      "3    4  Mrs. Allison Spencer   74            Jacobfort\n",
      "4    5             Amy Mason   74          Oliverburgh\n",
      "5    6        Jennifer Nolan   69         Lake Melissa\n",
      "6    7          Sheila Stone   60          Williamport\n",
      "7    8            Joel James   67            New Ethan\n",
      "8    9        Heather Pineda   32         Johnsonshire\n",
      "9   10        Colton Carlson   45          Ericchester\n",
      "10  11       William Hoffman   18        North Cynthia\n",
      "11  12           James Walls   76         Martinezstad\n",
      "12  13    Benjamin Contreras   54        East Nicholas\n",
      "13  14         Brian Serrano   61          Williamport\n",
      "14  15             Tami Ward   69      New Laurenville\n",
      "15  16            Adam Quinn   40          South James\n",
      "16  17          Eric Clayton   25             Rothland\n",
      "17  18      Jeffrey Crawford   44     North Philipstad\n",
      "18  19        Jessica Taylor   50         Michaelmouth\n",
      "19  20           Alicia Bell   19         Kimberlyberg\n",
      "Table updated successfully\n"
     ]
    }
   ],
   "source": [
    "import sqlite3\n",
    "import pandas as pd\n",
    "\n",
    "df = pd.read_csv('kunskapskontroll_2_1.csv')\n",
    "\n",
    "connect = sqlite3.connect('kunskaps_databas.db')\n",
    "\n",
    "cursor = connect.cursor()\n",
    "\n",
    "\n",
    "for index, row in df.iterrows():\n",
    "    cursor.execute(''' \n",
    "    SELECT COUNT(*) FROM people WHERE name = ?;\n",
    "    ''', (row['name'],))\n",
    "    \n",
    "    name_exists = cursor.fetchone()[0]\n",
    "\n",
    "    if name_exists:\n",
    "\n",
    "        cursor.execute(''' \n",
    "        UPDATE people\n",
    "        SET age = ?, city = ?\n",
    "        WHERE name = ?;\n",
    "        ''', (row['age'], row['city'], row['name']) )\n",
    "    else:\n",
    "        cursor.execute('''\n",
    "        INSERT INTO people (name, age, city)\n",
    "        VALUES(?, ? ,?);\n",
    "        ''',(row['name'], row['age'], row['city']))\n",
    "\n",
    "\n",
    "data_view = pd.read_sql_query('SELECT * FROM people', connect)\n",
    "\n",
    "print(data_view)\n",
    "\n",
    "connect.commit()\n",
    "connect.close()\n",
    "\n",
    "print('Table updated successfully')"
   ]
  }
 ],
 "metadata": {
  "kernelspec": {
   "display_name": ".venv",
   "language": "python",
   "name": "python3"
  },
  "language_info": {
   "codemirror_mode": {
    "name": "ipython",
    "version": 3
   },
   "file_extension": ".py",
   "mimetype": "text/x-python",
   "name": "python",
   "nbconvert_exporter": "python",
   "pygments_lexer": "ipython3",
   "version": "3.13.2"
  }
 },
 "nbformat": 4,
 "nbformat_minor": 2
}
