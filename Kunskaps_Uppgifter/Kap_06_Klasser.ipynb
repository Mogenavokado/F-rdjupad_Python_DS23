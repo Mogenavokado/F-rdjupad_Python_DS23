{
 "cells": [
  {
   "cell_type": "markdown",
   "metadata": {},
   "source": [
    "### Kapitel 6 - Klasser - Uppgifter"
   ]
  },
  {
   "cell_type": "markdown",
   "metadata": {},
   "source": [
    "1. Kolla vilka klasser variablerna a,b,c och d tillhör genom att använda type()-funktionen. Notera att vi i variabeln d har sparat en funktion. Vi hade kunnat anropa den genom att till exempel skriva d(2)."
   ]
  },
  {
   "cell_type": "code",
   "execution_count": 2,
   "metadata": {},
   "outputs": [],
   "source": [
    "a = 10\n",
    "b = [5, 7, 3]\n",
    "c = {2, 7, 1, 8, 2, 8}\n",
    "\n",
    "def my_fun(x):\n",
    "    return 2*2\n",
    "\n",
    "d = my_fun"
   ]
  },
  {
   "cell_type": "code",
   "execution_count": 3,
   "metadata": {},
   "outputs": [
    {
     "name": "stdout",
     "output_type": "stream",
     "text": [
      "<class 'int'>\n",
      "<class 'list'>\n",
      "<class 'set'>\n",
      "4\n",
      "<class 'int'>\n",
      "<class 'list'>\n",
      "<class 'set'>\n"
     ]
    }
   ],
   "source": [
    "# Answer\n",
    "\n",
    "print(type(a))\n",
    "print(type(b))\n",
    "print(type(c))\n",
    "\n",
    "print(d(2))\n",
    "\n",
    "group = [a, b, c]\n",
    "\n",
    "for letter in group:\n",
    "    print(type(letter))"
   ]
  },
  {
   "cell_type": "markdown",
   "metadata": {},
   "source": [
    "2. \n",
    "A) Kolla om variabeln my_variable är en instans av tuple-klassen genom att använda isinstance()-funktionen.\n",
    "\n",
    "B) Kolla om variabeln my_variable är en instans av list-klassen genom att använda isinstance()-funktionen."
   ]
  },
  {
   "cell_type": "code",
   "execution_count": 4,
   "metadata": {},
   "outputs": [],
   "source": [
    "my_variable = (1, 1, 2, 3, 5)"
   ]
  },
  {
   "cell_type": "code",
   "execution_count": null,
   "metadata": {},
   "outputs": [
    {
     "name": "stdout",
     "output_type": "stream",
     "text": [
      "True\n",
      "variable is of class tuple\n"
     ]
    }
   ],
   "source": [
    "# Answer A), B)\n",
    "if isinstance(my_variable, tuple) == True:\n",
    "    print(\"True\")\n",
    "    print (\"variable is of class tuple\")\n",
    "elif isinstance(my_variable, list) == True:\n",
    "    print(\"True\")\n",
    "    print(\"variable is of class list\")\n",
    "else:\n",
    "    print(\"False, the variable doesnt belong to either class (list or tuple)\")"
   ]
  },
  {
   "cell_type": "markdown",
   "metadata": {},
   "source": [
    "3. I denna uppgiften skall du göra följande:\n",
    " \n",
    "   A) Skapa en klass som heter \"FruitProduct\" som har en docstring där det står \"A class representing fruit products in a grocery store.\".\n",
    "   \n",
    "   B) Klassen skall ha instans-attributen \"price\" och \"quantity\". Detta gör du i samband med _\\_\\_init_\\__() .\n",
    "   \n",
    "   C) Instantiera klassen och spara instansen i variablen \"swedish_apples\". Dess pris skall vara 52 och dess kvantitet 1. Det är underförstått att vi menar kronor respektive kg. \n",
    "   \n",
    "   D) Printa ut klassens docstring genom att använda dig av _\\_\\_doc_\\_\\_.\n",
    "   \n",
    "   E) Printa ut attributen från \"swedish_apples\" instansen.\n",
    "   \n",
    "   F) Kolla vilken klass instansen \"swedish_apples\" tillhör genom att använda type() metoden.\n",
    "   \n",
    "   G) Kolla om \"swedish_apples\" tillhör klassen \"FruitProduct\" genom att använda isinstance() metoden.  "
   ]
  },
  {
   "cell_type": "code",
   "execution_count": null,
   "metadata": {},
   "outputs": [
    {
     "name": "stdout",
     "output_type": "stream",
     "text": [
      "A class representing fruit products in a grocery store\n",
      "Price: 52\n",
      "Kg: 1\n",
      "Class type: <class '__main__.FruitProduct'>\n",
      "Is it of class FruitProduct? True\n"
     ]
    }
   ],
   "source": [
    "# Answer\n",
    "class FruitProduct:\n",
    "     \"\"\"A class representing fruit products in a grocery store\"\"\"\n",
    "     def __init__(self, price, quantity):\n",
    "          self.price = price\n",
    "          self.quantity = quantity\n",
    "\n",
    "swedish_apples = FruitProduct(52, 1) #kronor och kg\n",
    "\n",
    "def summary(receipt):\n",
    "     print(FruitProduct.__doc__)\n",
    "     print(f\"Price: {receipt.price}\")\n",
    "     print(f\"Kg: {receipt.quantity}\")\n",
    "     print(f\"Class type: {type(receipt)}\")\n",
    "     print(f\"Is it of class FruitProduct? {isinstance(receipt, FruitProduct)}\")\n",
    "\n",
    "summary(swedish_apples)"
   ]
  },
  {
   "cell_type": "markdown",
   "metadata": {},
   "source": [
    "4. Skapa en klass \"Square\" vars instanser har attributet \"side_length\". Skapa två metoder, \"perimeter()\" och \"area()\" där metoderna beräknar omkretsen respektive arean givet längden på kvadraternas sidor som finns i attributet \"side_length\". Skapa en instans \"my_square\" med sidlängden 8. Beräkna omkretsen och arean av \"my_square\" genom att använda de två metoderna som du har skapat. "
   ]
  },
  {
   "cell_type": "code",
   "execution_count": null,
   "metadata": {},
   "outputs": [
    {
     "name": "stdout",
     "output_type": "stream",
     "text": [
      "Omkrets: 32\n",
      "Area: 64\n"
     ]
    }
   ],
   "source": [
    "# Answer\n",
    "class Square:\n",
    "    def __init__(self, side_length):\n",
    "        self.side_length = side_length\n",
    "        \n",
    "    def perimeter(self):\n",
    "        return 4 * self.side_length\n",
    "    \n",
    "    def area(self):\n",
    "        return self.side_length ** 2\n",
    "    \n",
    "my_square = Square (8)\n",
    "\n",
    "def stat(x):\n",
    "    print(f\"Omkrets: {my_square.perimeter()}\")\n",
    "    print(f\"Area: {my_square.area()}\")\n",
    "\n",
    "stat(my_square)"
   ]
  },
  {
   "cell_type": "markdown",
   "metadata": {},
   "source": [
    "5. \n",
    "A) Förklara vad nedanstående kod gör.\n",
    "   "
   ]
  },
  {
   "cell_type": "code",
   "execution_count": 14,
   "metadata": {},
   "outputs": [],
   "source": [
    "class DescriptiveStatistics():\n",
    "    \"\"\"This class provides functionality for calculating descriptive statistics from a list.\"\"\"\n",
    "    \n",
    "    # Här skapas en tom lista.\n",
    "    def __init__(self):\n",
    "        self.data = []\n",
    "    # Här tillsätts data till listan.\n",
    "    def add_data(self, data):\n",
    "        if isinstance(data, list):\n",
    "            self.data.extend(data)\n",
    "        else:\n",
    "            # Code below raises an error if the data is not a list. Will be covered in chapter 8 of the book. \n",
    "            raise Exception('Only \"Lists\" are accepted as data.')  \n",
    "            \n",
    "            #Kalkylerar och returnerar summan av alla elementen i listan.\n",
    "    def calc_sum(self):\n",
    "        return sum(self.data)\n",
    "    # Returnerar antalet element i listan.\n",
    "    def calc_nbr_of_elements(self):\n",
    "        return len(self.data)\n",
    "    # Returnerar mellanvärdet\n",
    "    def calc_mean(self):\n",
    "        return (self.calc_sum())/(self.calc_nbr_of_elements())\n",
    "    # Skriver ut summeringen av statistiken eller \"resultaten\" från de förgeånde koderna.\n",
    "    def print_summary(self):\n",
    "        print('Sum:', self.calc_sum())\n",
    "        print('Number of elements:', self.calc_nbr_of_elements())\n",
    "        print('Mean:', self.calc_mean())  "
   ]
  },
  {
   "cell_type": "code",
   "execution_count": 15,
   "metadata": {},
   "outputs": [],
   "source": [
    "L = [1, 2, 1, 3, 5, 7, 4, 9, 10, 3, 2, 1, 6, 4, 3, 2, 1, 10, 9, 1, 8, 7, 3, 2, 1]\n",
    "my_data = DescriptiveStatistics()\n",
    "my_data.add_data(L)"
   ]
  },
  {
   "cell_type": "code",
   "execution_count": 16,
   "metadata": {},
   "outputs": [
    {
     "data": {
      "text/plain": [
       "[1, 2, 1, 3, 5, 7, 4, 9, 10, 3, 2, 1, 6, 4, 3, 2, 1, 10, 9, 1, 8, 7, 3, 2, 1]"
      ]
     },
     "execution_count": 16,
     "metadata": {},
     "output_type": "execute_result"
    }
   ],
   "source": [
    "my_data.data"
   ]
  },
  {
   "cell_type": "code",
   "execution_count": 17,
   "metadata": {},
   "outputs": [
    {
     "name": "stdout",
     "output_type": "stream",
     "text": [
      "Sum: 105\n",
      "Number of elements: 25\n",
      "Mean: 4.2\n"
     ]
    }
   ],
   "source": [
    "print('Sum:', my_data.calc_sum())\n",
    "print('Number of elements:', my_data.calc_nbr_of_elements())\n",
    "print('Mean:', my_data.calc_mean())"
   ]
  },
  {
   "cell_type": "code",
   "execution_count": 18,
   "metadata": {},
   "outputs": [
    {
     "name": "stdout",
     "output_type": "stream",
     "text": [
      "Sum: 105\n",
      "Number of elements: 25\n",
      "Mean: 4.2\n"
     ]
    }
   ],
   "source": [
    "my_data.print_summary()"
   ]
  },
  {
   "cell_type": "markdown",
   "metadata": {},
   "source": [
    "### Answer A) ###\n",
    "\n",
    "Koden använder klassen DescriptiveStatistics för att lagra numeriska värden och sedan beräkna summan, antal elementer, medelvärdet.\n",
    "\n",
    "en variabel L skapas och innehåller en list av siffror i sig. L läggs in i klassen som dataset genom att använda add_data() metoden från klassen. Metoderna används här för att beräknas summan i listan, antal elementer i listan och medelvärdet i listan. det slutar med att resultatet printas ut."
   ]
  },
  {
   "cell_type": "markdown",
   "metadata": {},
   "source": [
    "B) Prova ändra variabeln L i koden nedan till en tuple och se vad som sker när du kör om all kod. "
   ]
  },
  {
   "cell_type": "markdown",
   "metadata": {},
   "source": [
    "### Answer B) ###\n",
    "\n",
    "Då kommer vi får en error då metoden add_data() bara ta emot list men inte tuple."
   ]
  },
  {
   "cell_type": "markdown",
   "metadata": {},
   "source": [
    "6. \n",
    "A) Skapa en klass som heter BankAccount. Klassen skall ha attributet \"account_holder\" som visar kontoinnehavarens namn samt attributet \"balance\" som visar kontoinnehavarens balans. Klassen skall ha metoden \"deposit()\" för att kunna sätta in pengar på kontot samt metoden \"withdraw()\" för att kunna ta ut pengar från kontot. Om bankinnehavaren försöker ta ut mer pengar än vad som finns på kontot skall meddelandet \"Too low balance\" printas ut.\n",
    "   \n",
    "B) Skapa en instans av klassen och testa så klassen funkar så som du förväntar dig. Du kan till exempel prova printa ut attributen, sätta in pengar och ta ut pengar. "
   ]
  },
  {
   "cell_type": "code",
   "execution_count": 13,
   "metadata": {},
   "outputs": [
    {
     "name": "stdout",
     "output_type": "stream",
     "text": [
      "Account Holder: Villager A\n",
      "Initial Balance: 1000\n",
      "Your new balance after deposit: 1500\n",
      "your new balance after withdrawal: 500\n"
     ]
    }
   ],
   "source": [
    "class BankAccount:\n",
    "    def __init__(self, account_holder, balance):\n",
    "        self.account_holder = account_holder\n",
    "        self.balance = balance\n",
    "\n",
    "    def deposit(self, amount):\n",
    "        self.balance += amount\n",
    "        print(f\"Your new balance after deposit: {self.balance}\")\n",
    "\n",
    "    def withdraw(self, amount):\n",
    "        if amount > self.balance:\n",
    "            print(\"Too low balance\")\n",
    "        else:\n",
    "            self.balance -= amount\n",
    "            print(f\"your new balance after withdrawal: {self.balance}\")\n",
    "\n",
    "my_account = BankAccount(\"Villager A\", 1000)\n",
    "\n",
    "def account_summary(account, deposit_amount, withdraw_amount):\n",
    "    print(f\"Account Holder: {account.account_holder}\")\n",
    "    print(f\"Initial Balance: {account.balance}\")\n",
    "    account.deposit(deposit_amount)\n",
    "    account.withdraw(withdraw_amount)\n",
    "\n",
    "account_summary(my_account, 500, 1000)"
   ]
  },
  {
   "cell_type": "markdown",
   "metadata": {},
   "source": [
    "7. Din kollega Adrian frågar dig, vad är klasser för något? Försök förklara detta för Adrian. Använd begreppen instanser, attribut samt metoder i din förklaring. "
   ]
  },
  {
   "cell_type": "markdown",
   "metadata": {},
   "source": [
    "### Answer ###\n",
    "\n",
    "Klass är en mall, template eller en låda som har utrustningar för att skapa objekt, objekt som även kan kallas för instanser. En instans är en objekt som skapas från klassen och kan ha egenskaper (attributer) just för de objektet. I en klass finns det även \"Metoder\" som är funktioner som kan manipulera objektets attributer eller är definierad att utföra någon beräkning. Metoderna är definierad i klassen.\n",
    "\n",
    "Om vi tar en exempel, eftersom jag gillar att träna kan vi försöka ge exempel med gym utrustningar:\n",
    "\n",
    "om vi tänker oss att en klass är en generell beskrivining av en gym maskin. alltså, i vår klass kan vi skapa olika typer av gym maskiner (såsom, bänkpress, benpress, bicep curls, hamstring curls etc.), många kommer ha gemensamma egenskaper(attributer) och funktioner(Metod).\n",
    "\n",
    "- Instansen i detta läget är just då de specifika gym maskinerna som bänkpress, benpress, bicep curls, hamstring curls etc.\n",
    "\n",
    "- Attributen är gym maskinernas egenskaper som namnet på maskinen, typ av maskin och viktinställningen på maskinen.\n",
    "\n",
    "- Metoder är vad gym maskinen är utrustad att göra och kan göra, som att lyfta vikter, ändra viktinställning, ändra sittposition.\n",
    "\n"
   ]
  }
 ],
 "metadata": {
  "kernelspec": {
   "display_name": ".venv",
   "language": "python",
   "name": "python3"
  },
  "language_info": {
   "codemirror_mode": {
    "name": "ipython",
    "version": 3
   },
   "file_extension": ".py",
   "mimetype": "text/x-python",
   "name": "python",
   "nbconvert_exporter": "python",
   "pygments_lexer": "ipython3",
   "version": "3.13.2"
  }
 },
 "nbformat": 4,
 "nbformat_minor": 2
}
