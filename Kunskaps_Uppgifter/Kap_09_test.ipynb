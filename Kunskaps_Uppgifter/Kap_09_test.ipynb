{
 "cells": [
  {
   "cell_type": "markdown",
   "metadata": {},
   "source": [
    "1. Varför är det generellt sett en god idé att bygga upp tester för sin kod?"
   ]
  },
  {
   "cell_type": "markdown",
   "metadata": {},
   "source": [
    "# Answer\n",
    "\n",
    "En bra effektiv kod har många trials & errors. Man börjar alltid simpelt först och sen testa på lägga in eller ändra till mer komplex. Det jag menar är att det är generellt en god idé att testa sin kod hela tiden för att testa på och identifiera alla fel som kan uppkomma. På så sätt kan det underlätta att göra förändringar eller uppdatera koden så den blir mer stabil och fungerar bättre."
   ]
  },
  {
   "cell_type": "markdown",
   "metadata": {},
   "source": [
    "2. \n",
    "Nedan ser du funktionen multiply_two_numbers. Använd \"doctest\" modulen för att implementera några test för funktionen \"multiply_two_numbers\". \n",
    "Den läsare som önskar kan även implementera testen i modulen \"pytest\". "
   ]
  },
  {
   "cell_type": "code",
   "execution_count": null,
   "metadata": {},
   "outputs": [],
   "source": [
    "def multiply_two_numbers(a, b):\n",
    "    \"\"\"\n",
    "    Return the product of a and b.\n",
    "\n",
    "    Examples:\n",
    "    >>> multiply_two_numbers(5, 5)\n",
    "    25\n",
    "    >>> multiply_two_numbers(3, 3)\n",
    "    9\n",
    "    \"\"\"\n",
    "    return a * b\n",
    "\n",
    "if __name__ == \"__main__\":\n",
    "    import doctest\n",
    "    doctest.testmod()\n",
    "    "
   ]
  },
  {
   "cell_type": "markdown",
   "metadata": {},
   "source": [
    "3. Skriv någon kod eller använd någon kod som du till exempel skrivit i tidigare kapitels uppgifter och implementera några test. Använd \"doctest\" och/eller \"pytest\" modulen. "
   ]
  },
  {
   "cell_type": "code",
   "execution_count": null,
   "metadata": {},
   "outputs": [],
   "source": [
    "def add_two_numbers(a, b):\n",
    "    \"\"\"\n",
    "    Return the product of a and b.\n",
    "\n",
    "    Examples:\n",
    "    >>> add_two_numbers(5, 5)\n",
    "    10\n",
    "    >>> add_two_numbers(3, 3)\n",
    "    6\n",
    "    >>> add_two_numbers(7, 2)\n",
    "    9\n",
    "    >>> add_two_numbers(2, 2)\n",
    "    4\n",
    "    \"\"\"\n",
    "    return a + b\n",
    "\n",
    "if __name__ == \"__main__\":\n",
    "    import doctest\n",
    "    doctest.testmod()"
   ]
  },
  {
   "cell_type": "code",
   "execution_count": null,
   "metadata": {},
   "outputs": [],
   "source": [
    "# hur man gör fel\n",
    "# ändrar till 5 + 5 = 5\n",
    "def add_two_numbers(a, b):\n",
    "    \"\"\"\n",
    "    Return the product of a and b.\n",
    "\n",
    "    Examples:\n",
    "    >>> add_two_numbers(5, 5)\n",
    "    5\n",
    "    >>> add_two_numbers(3, 3)\n",
    "    6\n",
    "    >>> add_two_numbers(7, 2)\n",
    "    9\n",
    "    >>> add_two_numbers(2, 2)\n",
    "    4\n",
    "    \"\"\"\n",
    "    return a + b\n",
    "\n",
    "if __name__ == \"__main__\":\n",
    "    import doctest\n",
    "    doctest.testmod()"
   ]
  }
 ],
 "metadata": {
  "kernelspec": {
   "display_name": ".venv",
   "language": "python",
   "name": "python3"
  },
  "language_info": {
   "codemirror_mode": {
    "name": "ipython",
    "version": 3
   },
   "file_extension": ".py",
   "mimetype": "text/x-python",
   "name": "python",
   "nbconvert_exporter": "python",
   "pygments_lexer": "ipython3",
   "version": "3.13.2"
  }
 },
 "nbformat": 4,
 "nbformat_minor": 2
}
