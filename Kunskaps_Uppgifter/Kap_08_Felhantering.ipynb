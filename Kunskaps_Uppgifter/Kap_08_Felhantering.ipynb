{
 "cells": [
  {
   "cell_type": "markdown",
   "metadata": {},
   "source": [
    " 1. Din kollega Johanna frågar dig:\n",
    "   \n",
    "   a) Vad är syntax errors?\n",
    "   \n",
    "   b) Varför skulle man vilja \"fånga exceptions\" i ett program och inte bara låta programmet stanna vid fel?\n",
    "   \n",
    "   c) Varför skulle man vilja \"lyfta exceptions\" i ett program? "
   ]
  },
  {
   "cell_type": "markdown",
   "metadata": {},
   "source": [
    "# Answer\n",
    "\n",
    "a) syntax error är fel som meddelas till användaren när man inte skriver koden enligt programmeringsspråkets regler.\n",
    "\n",
    "b) Du vill fånga exceptions för att veta var felet uppstår i programmet. På detta viset så kan du hantera felen på ett mer kontrollerad sätt än att låta programmet stanna vid fel. stabila och user-friendly program byggs på detta sättet och notifiera användaren när/var fel uppstår så hen kan ta sin tid att fixar problemet istället för att hitta var den har fastnat.\n",
    "\n",
    "c) för att notifiera användaren att något har gått fel och behöver med prioritet hantera felet. detta görs för att har en tydlig felhantering i programmet och undvika dolda fel/buggar."
   ]
  },
  {
   "cell_type": "markdown",
   "metadata": {},
   "source": [
    "2. a) Förklara vad nedanstående kod gör.\n",
    "\n",
    "   b) Generellt sett, vad är poängen med att använda \"else\"?  "
   ]
  },
  {
   "cell_type": "code",
   "execution_count": 2,
   "metadata": {},
   "outputs": [
    {
     "name": "stdout",
     "output_type": "stream",
     "text": [
      "314\n",
      "Invalid input, cannot convert to integer.\n"
     ]
    }
   ],
   "source": [
    "def convert_string_to_int(string): \n",
    "    try:\n",
    "        int(string) \n",
    "    except ValueError:\n",
    "        return \"Invalid input, cannot convert to integer.\" \n",
    "    else:\n",
    "        return int(string) \n",
    "\n",
    "print(convert_string_to_int(\"314\")) \n",
    "print(convert_string_to_int(\"abc\"))  "
   ]
  },
  {
   "cell_type": "markdown",
   "metadata": {},
   "source": [
    "# Answer\n",
    "\n",
    "a) koden får in en string och konvertera om det till integer, om den string som matas in inte går att konverteras till integer så lyfts en exception upp att det inte går att konvertera.\n",
    "\n",
    "b) \"else\" används som ett alternativ när den egentliga operationen inte fungera. i koden ser vi att \"else\" har samma operation som \"try\", vilket ger oss en sträng konvertering 2 gånger om det skulle så ske att det går igenom.\n"
   ]
  },
  {
   "cell_type": "markdown",
   "metadata": {},
   "source": [
    "4. \n",
    "Skapa en funktion \"add_two_small_numbers\" som adderar två tal. Om något av talen är större än 100 så skall du lyfta en exception och skriva ut meddelandet \"both numbers must be smaller than or equal to 100\". \n"
   ]
  },
  {
   "cell_type": "code",
   "execution_count": 8,
   "metadata": {},
   "outputs": [
    {
     "name": "stdout",
     "output_type": "stream",
     "text": [
      "both numbers must be smaller than or equal to 100\n"
     ]
    }
   ],
   "source": [
    "def add_two_small_numbers(a, b):\n",
    "    if a > 100 or b > 100:\n",
    "        raise ValueError(\"both numbers must be smaller than or equal to 100\")\n",
    "    else:\n",
    "        return a + b\n",
    "\n",
    "try:\n",
    "    print(add_two_small_numbers(110, 50))\n",
    "except ValueError as error:\n",
    "    print(error)"
   ]
  },
  {
   "cell_type": "markdown",
   "metadata": {},
   "source": [
    "5. Din kollega, som är en skicklig programmerare, brukar innan hon försöker göra ett perfekt fungerande program testa olika ideér för att undersöka och lära sig mer om det problem hon försöker lösa. Nedan ser du ett av hennes skript som gjorts i syfte att undersöka och lära sig mer. Förklara vad det är hon gjort. "
   ]
  },
  {
   "cell_type": "code",
   "execution_count": 13,
   "metadata": {},
   "outputs": [
    {
     "name": "stdout",
     "output_type": "stream",
     "text": [
      "<class 'TypeError'>\n",
      "unsupported operand type(s) for +: 'int' and 'str'\n"
     ]
    }
   ],
   "source": [
    "# Programmet fångar felet som uppstår och skriver ut vilken typ av error det är och själva felmeddelandet.\n",
    "try:\n",
    "    5 + \"Python is fun!\"\n",
    "except Exception as exception_instance:\n",
    "    print(type(exception_instance))\n",
    "    print(exception_instance)\n"
   ]
  },
  {
   "cell_type": "code",
   "execution_count": 10,
   "metadata": {},
   "outputs": [
    {
     "name": "stdout",
     "output_type": "stream",
     "text": [
      "<class 'ZeroDivisionError'>\n",
      "division by zero\n"
     ]
    }
   ],
   "source": [
    "# # Programmet fångar felet som uppstår och skriver ut vilken typ av error det är och själva felmeddelandet.\n",
    "try:\n",
    "    5/0\n",
    "except Exception as exception_instance:\n",
    "    print(type(exception_instance))\n",
    "    print(exception_instance)"
   ]
  },
  {
   "cell_type": "code",
   "execution_count": null,
   "metadata": {},
   "outputs": [],
   "source": [
    "# Funktion skapas och testas med except-blockar som fångar upp fel.\n",
    "# De fel som fångas upp av funktionen händer när 1. det som matas in inte är siffror och 2. dividering med 0\n",
    "def add_two_numbers(a, b): \n",
    "    try:\n",
    "        return(a/b) \n",
    "    except TypeError:\n",
    "        print(\"Both arguments must be numbers.\")\n",
    "    except ZeroDivisionError:\n",
    "        print(\"Division by zero is not defined.\")"
   ]
  },
  {
   "cell_type": "code",
   "execution_count": 12,
   "metadata": {},
   "outputs": [
    {
     "name": "stdout",
     "output_type": "stream",
     "text": [
      "2.5\n",
      "Both arguments must be numbers.\n",
      "None\n",
      "Division by zero is not defined.\n",
      "None\n"
     ]
    }
   ],
   "source": [
    "# Här testas det att funktionen fungera som den ska\n",
    "print(add_two_numbers(5, 2))\n",
    "print(add_two_numbers(5, \"hello\"))\n",
    "print(add_two_numbers(5, 0))"
   ]
  }
 ],
 "metadata": {
  "kernelspec": {
   "display_name": ".venv",
   "language": "python",
   "name": "python3"
  },
  "language_info": {
   "codemirror_mode": {
    "name": "ipython",
    "version": 3
   },
   "file_extension": ".py",
   "mimetype": "text/x-python",
   "name": "python",
   "nbconvert_exporter": "python",
   "pygments_lexer": "ipython3",
   "version": "3.13.2"
  }
 },
 "nbformat": 4,
 "nbformat_minor": 2
}
