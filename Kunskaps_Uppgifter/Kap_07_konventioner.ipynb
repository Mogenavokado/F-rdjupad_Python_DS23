{
 "cells": [
  {
   "cell_type": "markdown",
   "metadata": {},
   "source": [
    "###  Kapitel 7 - Konventioner - Uppgifter"
   ]
  },
  {
   "cell_type": "markdown",
   "metadata": {},
   "source": [
    "1. Läs \"PEP 8 – Style Guide for \n",
    "Python Cod\"  och besvaranedanstående frågor.\n",
    " \n",
    "A) Om du arbetar i ett projekt som har ett internt dokument med \"style guidelines\" där vissa saker går emot vad PEP8 säger. Vad gör du då?\n"
   ]
  },
  {
   "cell_type": "markdown",
   "metadata": {},
   "source": [
    "# Answer\n",
    "Jag följer dem interna riktlinjerna från det interna dokumentet. PEP8 är grundläggande och viktiga riktlinjer som gör det enkelt för användare att kunna förstå och läsa andras koder. Men om företaget eller organisationen har sin egen interna riktlinjer i projektet så bör man hellre följa just dem även om det luta sig bort från PEP8. För det är viktigt att kunna använda den stil av arbete som projektet använder sig av."
   ]
  },
  {
   "cell_type": "markdown",
   "metadata": {},
   "source": [
    "  B) På vilket språk skall kommentarer generellt sett skrivas.\n",
    " \n"
   ]
  },
  {
   "cell_type": "markdown",
   "metadata": {},
   "source": [
    "### Answer\n",
    "\n",
    "Engelska. Största orsak är för engelska är det vanligaste språket inom programmeringen."
   ]
  },
  {
   "cell_type": "markdown",
   "metadata": {},
   "source": [
    "C) Hur skall funktioner och variabler namnges?\n",
    " \n"
   ]
  },
  {
   "cell_type": "markdown",
   "metadata": {},
   "source": [
    "### Answer\n",
    "små bokstäver och understreck."
   ]
  },
  {
   "cell_type": "markdown",
   "metadata": {},
   "source": [
    "D) Hur skall klasser namnges?\n",
    "  \n"
   ]
  },
  {
   "cell_type": "markdown",
   "metadata": {},
   "source": [
    "## Answer \n",
    "Stor bokstav vid varje första sammansatt ord, även kallad som PascalCase."
   ]
  },
  {
   "cell_type": "markdown",
   "metadata": {},
   "source": [
    " E) Om du i ditt skript importerar exempelvis en modul, vart i skriptet skall koden som utför importen placeras?\n",
    " \n"
   ]
  },
  {
   "cell_type": "markdown",
   "metadata": {},
   "source": [
    "# Answer\n",
    "I början av skriptet"
   ]
  },
  {
   "cell_type": "markdown",
   "metadata": {},
   "source": [
    "F) Enligt PEP8, skall man använda enkla ('my_string') eller dubbla (\"my_string\") citattecken för att skapa en sträng?\n"
   ]
  },
  {
   "cell_type": "markdown",
   "metadata": {},
   "source": [
    "# Answer\n",
    "Detta är för att hålla sig till antingen enkla eller dubbla citattecken genom hela koden. Man gör detta för att vara konsekvent inom sin kod, enklare att läsa."
   ]
  },
  {
   "cell_type": "markdown",
   "metadata": {},
   "source": [
    "G) Vilket av \"Alternativ 1\" och \"Alternativ 2\" nedan är det korrekta sättet att skriva koden på enligt PEP8?"
   ]
  },
  {
   "cell_type": "code",
   "execution_count": null,
   "metadata": {},
   "outputs": [],
   "source": [
    "# Alternativ 1\n",
    "a1 = 5 + 2\n",
    "\n",
    "# Alternativ 2\n",
    "a2=5+2"
   ]
  },
  {
   "cell_type": "markdown",
   "metadata": {},
   "source": [
    "# Answer\n",
    "Alternativt 1, enkel läsning och mild för ögonen"
   ]
  },
  {
   "cell_type": "markdown",
   "metadata": {},
   "source": [
    "2. I \"PEP20 - The Zen of Python\" så står det:\n",
    "   \n",
    "A) \"Explicit is better than implicit.\" Vad tror du det innebär? Kan du exemplifiera?\n",
    "   \n"
   ]
  },
  {
   "cell_type": "markdown",
   "metadata": {},
   "source": [
    "# Answer\n",
    "Det innebär att vara tydlig i koden och koden ska vara lätt att läsa och förstå. Det syfta på att en annan person som läser din kod ska kunna förstå vad som händer utan att behöva anar eller gissa hur man använder koden.\n",
    "\n"
   ]
  },
  {
   "cell_type": "markdown",
   "metadata": {},
   "source": [
    "B) \"Simple is better than complex.\" Vad tror du det innebär? Kan du exemplifiera? ."
   ]
  },
  {
   "cell_type": "markdown",
   "metadata": {},
   "source": [
    "# Answer\n",
    "Enkla koder är lättare att förstå, göra underhållning och även lätt att debugga. komplexa koder är tidskrävande och förvirrande att navigera. Den ideala är att koda simpelt men utan att offra funktionaliteten av den komplexa logik sidan, vilket är svårt men är målet till en bra kod."
   ]
  },
  {
   "cell_type": "markdown",
   "metadata": {},
   "source": [
    "3. Du och din nya kollega har en fikapaus och han säger följande: \"Det känns krångligt att vi alla skall behöva följa konventioner och standarder. Är det inte lättare om alla bara skriver kod på det sättet som de vill, sålänge som den fungerar\"? Vad svarar du? "
   ]
  },
  {
   "cell_type": "markdown",
   "metadata": {},
   "source": [
    "# Answer\n",
    "NEJ, det hade varit mer tidskrävande att tolka och förstå. Det underlätta alla om man skriver koder med samma standard, detta är för att inte hamna i total förödelse(exempelvis tolka varandra fel) där varje programmerare skriver på sitt eget språk, egen stil av funktioner, egna akronymer, egen struktur av data. Att hålla sig till konventioner och standarder är bra till många samarbeten och projekter."
   ]
  }
 ],
 "metadata": {
  "language_info": {
   "name": "python"
  }
 },
 "nbformat": 4,
 "nbformat_minor": 2
}
