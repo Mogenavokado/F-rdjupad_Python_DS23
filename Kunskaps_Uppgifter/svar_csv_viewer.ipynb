{
 "cells": [
  {
   "cell_type": "markdown",
   "metadata": {},
   "source": [
    "# CSV_Viewer\n",
    "\n",
    "Programmet skapar en grafisk user interface som laddar in och visar innehåller i en CSV-fil i tabellformat. \n",
    "\n",
    "Man kan filtrera i programmet för att leta efter kolumn och/eller värde. \n",
    "\n",
    "Därefter kan man ladda ned filtreringen man gjorde i programmet till en ny CSV-fil.\n",
    "\n",
    "Programmet är även dynamisk så det går att justera storleken på program fönstret."
   ]
  }
 ],
 "metadata": {
  "language_info": {
   "name": "python"
  }
 },
 "nbformat": 4,
 "nbformat_minor": 2
}
