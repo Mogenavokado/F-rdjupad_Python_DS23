{
 "cells": [
  {
   "cell_type": "markdown",
   "metadata": {},
   "source": [
    "1. Varför kan loggfiler med information vara viktiga för exempelvis företag och organisationer? "
   ]
  },
  {
   "cell_type": "markdown",
   "metadata": {},
   "source": [
    "# Answer\n",
    "Det finns många anledningar till att loggfiler är viktiga för företag och organisationer. Loggfiler innehåller historisk information om företagets system, program och aktiviteter. Med historisk information kan man bidra till att bygga bättre till exempel:\n",
    "\n",
    "1. underhåll av system eller program\n",
    "2. detektera data-intrång\n",
    "3. följa lagar och regler\n",
    "4. förstå användabeteenden\n",
    "5. etc.\n",
    "\n",
    "därför är loggfiler med information viktigt."
   ]
  },
  {
   "cell_type": "markdown",
   "metadata": {},
   "source": [
    "2. Vad menas med att det finns olika nivåer för logg-meddelanden? "
   ]
  },
  {
   "cell_type": "markdown",
   "metadata": {},
   "source": [
    "# Answer\n",
    "\n",
    "Det menas att olika logg meddelanden har olika prioriteringar, vissa är viktigare och allvarligare än andra. Med detta kan man i företag se vad som behöver prioriteras att åtgärda först. I python är dem vanliga nivåerna, ERROR, INFO, WARNING, CRITICAL och DEBUG."
   ]
  },
  {
   "cell_type": "markdown",
   "metadata": {},
   "source": [
    "3. Skapa ett valfritt program där du också använder dig av logging modulen. "
   ]
  },
  {
   "cell_type": "code",
   "execution_count": null,
   "metadata": {},
   "outputs": [
    {
     "name": "stdout",
     "output_type": "stream",
     "text": [
      "Miniräknare\n",
      "1. Addition \n",
      "2. Division \n"
     ]
    }
   ],
   "source": [
    "# Copy paste denna kod till en .py fil och sen kör den genom terminalen. \n",
    "# Annars fortsätt ned till nästa kod block.\n",
    "import logging\n",
    "\n",
    "logging.basicConfig(level=logging.INFO, format='%(asctime)s - %(levelname)s - %(message)s')\n",
    "\n",
    "def addition(a, b):\n",
    "    result = a + b\n",
    "    logging.info(f\"Addition: {a} + {b} = {result}\")\n",
    "    return result\n",
    "\n",
    "def division(a, b):\n",
    "    try:\n",
    "        result = a/b\n",
    "        logging.info(f\"Division: {a} / {b} = {result}\")\n",
    "        return result\n",
    "    except ZeroDivisionError:\n",
    "        logging.error(\"Division med noll\")\n",
    "        return \"Kan inte dividera med noll\"\n",
    "\n",
    "def main():\n",
    "    print(\"Miniräknare\")\n",
    "    print(\"1. Addition \")\n",
    "    print(\"2. Division \")\n",
    "\n",
    "    choice = input(\"välj beräkning 1 eller 2: \")\n",
    "\n",
    "    if choice in ('1','2'):\n",
    "        try:\n",
    "            num1 = float(input(\"Ange första talet: \"))\n",
    "            num2 = float(input(\"Ange andra talet: \"))\n",
    "\n",
    "            if choice == '1':\n",
    "                print(\"Resultat: \", addition(num1,num2))\n",
    "            elif choice == '2':\n",
    "                print(\"Resultat: \", division(num1,num2))\n",
    "\n",
    "        except ValueError:\n",
    "            logging.error(\"ogiltigt värde\")\n",
    "            print(\"Fel, du måste ange annat värde\")\n",
    "    else:\n",
    "        logging.warning(\"Ogiltigt beräkningsval\")\n",
    "        print(\"välj mellan 1 eller 2\")\n",
    "\n",
    "if __name__ == \"__main__\":\n",
    "    main()"
   ]
  },
  {
   "cell_type": "code",
   "execution_count": 4,
   "metadata": {},
   "outputs": [
    {
     "name": "stderr",
     "output_type": "stream",
     "text": [
      "2025-03-12 19:45:18,107 - INFO - Initiate launching sequence\n",
      "2025-03-12 19:45:18,108 - INFO - Addition: 5 + 20 = 25\n",
      "2025-03-12 19:45:18,108 - INFO - 25 is the correct deactivation code\n",
      "2025-03-12 19:45:18,108 - INFO - Launching sequence terminated\n"
     ]
    }
   ],
   "source": [
    "# koden som går att köra i ipynb format\n",
    "import logging\n",
    "\n",
    "logging.basicConfig(level=logging.INFO, format='%(asctime)s - %(levelname)s - %(message)s')\n",
    "\n",
    "def addition(a, b):\n",
    "    result = a + b\n",
    "    logging.info(f\"Addition: {a} + {b} = {result}\")\n",
    "    return result\n",
    "\n",
    "def division(a, b):\n",
    "    try:\n",
    "        result = a/b\n",
    "        logging.info(f\"Division: {a} / {b} = {result}\")\n",
    "        return result\n",
    "    except ZeroDivisionError:\n",
    "        logging.error(\"Division med noll\")\n",
    "        return \"Kan inte dividera med noll\"\n",
    "\n",
    "def main():\n",
    "    logging.info(\"Initiate launching sequence\")\n",
    "    num1 = 5\n",
    "    num2 = 20\n",
    "    result = addition(num1,num2)\n",
    "\n",
    "    logging.info(f\"{result} is the correct deactivation code\")\n",
    "    logging.info(f\"Launching sequence terminated\")\n",
    "    \n",
    "\n",
    "if __name__ == \"__main__\":\n",
    "    main()"
   ]
  }
 ],
 "metadata": {
  "kernelspec": {
   "display_name": ".venv",
   "language": "python",
   "name": "python3"
  },
  "language_info": {
   "codemirror_mode": {
    "name": "ipython",
    "version": 3
   },
   "file_extension": ".py",
   "mimetype": "text/x-python",
   "name": "python",
   "nbconvert_exporter": "python",
   "pygments_lexer": "ipython3",
   "version": "3.13.2"
  }
 },
 "nbformat": 4,
 "nbformat_minor": 2
}
