{
 "cells": [
  {
   "cell_type": "markdown",
   "metadata": {},
   "source": [
    "1. Vad är en modul och hur kan en sådan användas i andra filer? "
   ]
  },
  {
   "cell_type": "markdown",
   "metadata": {},
   "source": [
    "## Answer\n",
    "\n",
    "Modul är en fil som innehåller kod. Tänk som en vanlig kod fil men i mindre del. Det som är bra med en modul är att den är återanvändbar och lättare att läsa och underhålla. Modul kan användas i andra filer genom att importera in dem i filerna som ska använda sig av modulen."
   ]
  },
  {
   "cell_type": "markdown",
   "metadata": {},
   "source": [
    "2. a) Importera modulen \"math\" från \"The Python Standard Library\": https://docs.python.org/3/library/index.html utan att använda aliasing.\n",
    "   \n",
    "   b) Skriv help(math.ceil). Förstår du vad \"ceil()\" funktionen gör?\n",
    "\n",
    "   c) Skriv math.ceil(10.2), vad får du för svar och varför?\n",
    "\n",
    "   d) Skriv math.ceil(9.8), vad får du för svar och varför? "
   ]
  },
  {
   "cell_type": "code",
   "execution_count": 1,
   "metadata": {},
   "outputs": [
    {
     "name": "stdout",
     "output_type": "stream",
     "text": [
      "Help on built-in function ceil in module math:\n",
      "\n",
      "ceil(x, /)\n",
      "    Return the ceiling of x as an Integral.\n",
      "\n",
      "    This is the smallest integer >= x.\n",
      "\n"
     ]
    }
   ],
   "source": [
    "import math\n",
    "\n",
    "help(math.ceil)"
   ]
  },
  {
   "cell_type": "code",
   "execution_count": 2,
   "metadata": {},
   "outputs": [
    {
     "data": {
      "text/plain": [
       "11"
      ]
     },
     "execution_count": 2,
     "metadata": {},
     "output_type": "execute_result"
    }
   ],
   "source": [
    "math.ceil(10.2)"
   ]
  },
  {
   "cell_type": "code",
   "execution_count": 3,
   "metadata": {},
   "outputs": [
    {
     "data": {
      "text/plain": [
       "10"
      ]
     },
     "execution_count": 3,
     "metadata": {},
     "output_type": "execute_result"
    }
   ],
   "source": [
    "math.ceil(9.8)"
   ]
  },
  {
   "cell_type": "markdown",
   "metadata": {},
   "source": [
    "# Answer\n",
    "\n",
    "math.ceil() avrundar alltid uppåt till närmaste heltalet från det angivna talet inmatad i funktionen."
   ]
  },
  {
   "cell_type": "markdown",
   "metadata": {},
   "source": [
    "3. Bygg en egen modul som till exempel innehåller två funktioner, importera därefter denna modulen i ett annat skript och prova använd de två funktionerna. Notera att modulen du bygger skall skrivas i ett \"vanligt skript\" (en .py fil) och inte i en jupyter notebook fil (.ipynb). Du kan däremot importera modulen (.py filen) i en jupyter notebook (.ipynb fil).\n",
    "  \n",
    "   Om du önskar importera en jupyter notebook (.ipynb fil) till en annan jupyter notebook (.ipynb fil) så kan du kolla igenom följande smidiga paket: https://pypi.org/project/import-ipynb/ ."
   ]
  },
  {
   "cell_type": "code",
   "execution_count": null,
   "metadata": {},
   "outputs": [],
   "source": [
    "# kopiera denna kod och skapa en py fil, den kan heta \"räkna_modul.py\"\n",
    "\n",
    "def addera(a, b):\n",
    "    \"\"\" Addera två tal och returnerar summan\"\"\"\n",
    "    return a + b\n",
    "\n",
    "def subtrahera(a, b):\n",
    "    \"\"\"Subtrahera två tal och returnerar differensen\"\"\"\n",
    "    return a - b\n"
   ]
  },
  {
   "cell_type": "code",
   "execution_count": null,
   "metadata": {},
   "outputs": [],
   "source": [
    "#Importera in \"räkna_modul.py\" filen här efter att har sparat den som egen .py fil\n",
    "import räkna_modul\n",
    "\n",
    "a_resultat = räkna_modul.addera(10, 20)\n",
    "b_resultat = räkna_modul.subtrahera(20, 10)\n",
    "\n",
    "print(a_resultat)\n",
    "print(b_resultat)"
   ]
  }
 ],
 "metadata": {
  "kernelspec": {
   "display_name": ".venv",
   "language": "python",
   "name": "python3"
  },
  "language_info": {
   "codemirror_mode": {
    "name": "ipython",
    "version": 3
   },
   "file_extension": ".py",
   "mimetype": "text/x-python",
   "name": "python",
   "nbconvert_exporter": "python",
   "pygments_lexer": "ipython3",
   "version": "3.13.2"
  }
 },
 "nbformat": 4,
 "nbformat_minor": 2
}
